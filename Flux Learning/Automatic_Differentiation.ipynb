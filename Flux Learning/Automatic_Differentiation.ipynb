{
 "cells": [
  {
   "cell_type": "code",
   "execution_count": 1,
   "metadata": {},
   "outputs": [],
   "source": [
    "using Flux: gradient"
   ]
  },
  {
   "cell_type": "code",
   "execution_count": 7,
   "metadata": {},
   "outputs": [
    {
     "name": "stdout",
     "output_type": "stream",
     "text": [
      "86\n"
     ]
    }
   ],
   "source": [
    "f(x) = 3x^2 + 2x + 1\n",
    "\n",
    "println(f(5))"
   ]
  },
  {
   "cell_type": "code",
   "execution_count": 16,
   "metadata": {},
   "outputs": [
    {
     "name": "stdout",
     "output_type": "stream",
     "text": [
      "32.0\n",
      "(6.0,)\n"
     ]
    }
   ],
   "source": [
    "# First order derivative\n",
    "df(x) = gradient(f, x)[1]\n",
    "\n",
    "println(df(5))\n",
    "\n",
    "# Sceond order derivative\n",
    "ddf(x) = gradient(df, x)\n",
    "\n",
    "println(ddf(5))\n",
    "\n",
    "# For the first time, it takes some time.\n",
    "# After that, these calculations are cached."
   ]
  },
  {
   "cell_type": "code",
   "execution_count": 23,
   "metadata": {},
   "outputs": [
    {
     "data": {
      "text/plain": [
       "myloss (generic function with 1 method)"
      ]
     },
     "execution_count": 23,
     "metadata": {},
     "output_type": "execute_result"
    }
   ],
   "source": [
    "myloss(W, b, x) = sum(W * x .+ b)"
   ]
  },
  {
   "cell_type": "code",
   "execution_count": 24,
   "metadata": {},
   "outputs": [
    {
     "data": {
      "text/plain": [
       "5-element Vector{Float64}:\n",
       " 0.3676631404205277\n",
       " 0.8902956739591973\n",
       " 0.1255853697738113\n",
       " 0.11270827648041404\n",
       " 0.5502044923936937"
      ]
     },
     "execution_count": 24,
     "metadata": {},
     "output_type": "execute_result"
    }
   ],
   "source": [
    "W = randn(3, 5)\n",
    "b = zeros(3)\n",
    "x = rand(5)"
   ]
  },
  {
   "cell_type": "code",
   "execution_count": 37,
   "metadata": {},
   "outputs": [
    {
     "data": {
      "text/plain": [
       "3×5 Matrix{Float64}:\n",
       "  0.992179  -1.02181   -1.46398    1.39222   -0.00383902\n",
       " -1.06775   -0.180947   0.616928  -0.253127  -1.42683\n",
       "  1.5716    -0.560059  -0.332651   0.158226   1.59936"
      ]
     },
     "execution_count": 37,
     "metadata": {},
     "output_type": "execute_result"
    }
   ],
   "source": [
    "W"
   ]
  },
  {
   "cell_type": "code",
   "execution_count": 38,
   "metadata": {},
   "outputs": [
    {
     "data": {
      "text/plain": [
       "3-element Vector{Float64}:\n",
       " 0.0\n",
       " 0.0\n",
       " 0.0"
      ]
     },
     "execution_count": 38,
     "metadata": {},
     "output_type": "execute_result"
    }
   ],
   "source": [
    "b"
   ]
  },
  {
   "cell_type": "code",
   "execution_count": 39,
   "metadata": {},
   "outputs": [
    {
     "data": {
      "text/plain": [
       "5-element Vector{Float64}:\n",
       " 0.3676631404205277\n",
       " 0.8902956739591973\n",
       " 0.1255853697738113\n",
       " 0.11270827648041404\n",
       " 0.5502044923936937"
      ]
     },
     "execution_count": 39,
     "metadata": {},
     "output_type": "execute_result"
    }
   ],
   "source": [
    "x"
   ]
  },
  {
   "cell_type": "code",
   "execution_count": 67,
   "metadata": {},
   "outputs": [
    {
     "data": {
      "text/plain": [
       "3×5 Matrix{Float64}:\n",
       " 0.367663  0.890296  0.125585  0.112708  0.550204\n",
       " 0.367663  0.890296  0.125585  0.112708  0.550204\n",
       " 0.367663  0.890296  0.125585  0.112708  0.550204"
      ]
     },
     "execution_count": 67,
     "metadata": {},
     "output_type": "execute_result"
    }
   ],
   "source": [
    "# Gradient wrt W = xᵀ .+ b\n",
    "gradient(myloss, W, b, x)[1]"
   ]
  },
  {
   "cell_type": "code",
   "execution_count": 68,
   "metadata": {},
   "outputs": [
    {
     "data": {
      "text/plain": [
       "3×5 Matrix{Float64}:\n",
       " 0.367663  0.890296  0.125585  0.112708  0.550204\n",
       " 0.367663  0.890296  0.125585  0.112708  0.550204\n",
       " 0.367663  0.890296  0.125585  0.112708  0.550204"
      ]
     },
     "execution_count": 68,
     "metadata": {},
     "output_type": "execute_result"
    }
   ],
   "source": [
    "x' .+ b"
   ]
  },
  {
   "cell_type": "code",
   "execution_count": 69,
   "metadata": {},
   "outputs": [
    {
     "data": {
      "text/plain": [
       "3-element Fill{Float64}, with entries equal to 1.0"
      ]
     },
     "execution_count": 69,
     "metadata": {},
     "output_type": "execute_result"
    }
   ],
   "source": [
    "# Gradient wrt b = 1\n",
    "gradient(myloss, W, b, x)[2]"
   ]
  },
  {
   "cell_type": "code",
   "execution_count": 75,
   "metadata": {},
   "outputs": [
    {
     "data": {
      "text/plain": [
       "Grads(...)"
      ]
     },
     "execution_count": 75,
     "metadata": {},
     "output_type": "execute_result"
    }
   ],
   "source": [
    "using Flux: params\n",
    "\n",
    "W = randn(3, 5)\n",
    "b = zeros(3)\n",
    "x = rand(5)\n",
    "\n",
    "y(x) = sum(W * x .+ b)\n",
    "\n",
    "grads = gradient(()->y(x), params([W, b]))"
   ]
  },
  {
   "cell_type": "code",
   "execution_count": 78,
   "metadata": {},
   "outputs": [
    {
     "data": {
      "text/plain": [
       "3×5 Matrix{Float64}:\n",
       " 0.659177  0.0569233  0.623368  0.616565  0.15328\n",
       " 0.659177  0.0569233  0.623368  0.616565  0.15328\n",
       " 0.659177  0.0569233  0.623368  0.616565  0.15328"
      ]
     },
     "execution_count": 78,
     "metadata": {},
     "output_type": "execute_result"
    }
   ],
   "source": [
    "grads[W]"
   ]
  },
  {
   "cell_type": "code",
   "execution_count": 79,
   "metadata": {},
   "outputs": [
    {
     "data": {
      "text/plain": [
       "3-element Fill{Float64}, with entries equal to 1.0"
      ]
     },
     "execution_count": 79,
     "metadata": {},
     "output_type": "execute_result"
    }
   ],
   "source": [
    "grads[b]"
   ]
  },
  {
   "cell_type": "code",
   "execution_count": 129,
   "metadata": {},
   "outputs": [
    {
     "data": {
      "text/plain": [
       "10-element Vector{Float32}:\n",
       " 0.37222153\n",
       " 0.60511893\n",
       " 0.24287015\n",
       " 0.20751816\n",
       " 0.48786706\n",
       " 0.93959624\n",
       " 0.39977288\n",
       " 0.43573952\n",
       " 0.5225794\n",
       " 0.25934428"
      ]
     },
     "execution_count": 129,
     "metadata": {},
     "output_type": "execute_result"
    }
   ],
   "source": [
    "using Flux\n",
    "m = Dense(10, 5)\n",
    "x = rand(Float32, 10)"
   ]
  },
  {
   "cell_type": "code",
   "execution_count": 130,
   "metadata": {},
   "outputs": [
    {
     "data": {
      "text/plain": [
       "5×10 Matrix{Float32}:\n",
       " -0.498481   0.41813     0.346584   …   0.0968794  -0.488937   -0.154911\n",
       "  0.395868  -0.401942    0.410465       0.341339    0.264836   -0.576389\n",
       " -0.300246  -0.0721001  -0.273318      -0.0573174  -0.0249172  -0.384246\n",
       "  0.551283   0.541708    0.464189      -0.313076   -0.560357    0.0229575\n",
       " -0.423883  -0.264012    0.0208688     -0.204324    0.45719     0.255334"
      ]
     },
     "execution_count": 130,
     "metadata": {},
     "output_type": "execute_result"
    }
   ],
   "source": [
    "params(m)[1]"
   ]
  },
  {
   "cell_type": "code",
   "execution_count": 131,
   "metadata": {},
   "outputs": [
    {
     "data": {
      "text/plain": [
       "5-element Vector{Float32}:\n",
       " 0.0\n",
       " 0.0\n",
       " 0.0\n",
       " 0.0\n",
       " 0.0"
      ]
     },
     "execution_count": 131,
     "metadata": {},
     "output_type": "execute_result"
    }
   ],
   "source": [
    "params(m)[2]"
   ]
  }
 ],
 "metadata": {
  "kernelspec": {
   "display_name": "Julia 1.7.2",
   "language": "julia",
   "name": "julia-1.7"
  },
  "language_info": {
   "file_extension": ".jl",
   "mimetype": "application/julia",
   "name": "julia",
   "version": "1.7.2"
  },
  "orig_nbformat": 4
 },
 "nbformat": 4,
 "nbformat_minor": 2
}
